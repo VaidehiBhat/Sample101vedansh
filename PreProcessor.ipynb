{
  "nbformat": 4,
  "nbformat_minor": 0,
  "metadata": {
    "colab": {
      "provenance": [],
      "authorship_tag": "ABX9TyMPH1ZKWpDvtuIyHOoGzNM+",
      "include_colab_link": true
    },
    "kernelspec": {
      "name": "python3",
      "display_name": "Python 3"
    },
    "language_info": {
      "name": "python"
    }
  },
  "cells": [
    {
      "cell_type": "markdown",
      "metadata": {
        "id": "view-in-github",
        "colab_type": "text"
      },
      "source": [
        "<a href=\"https://colab.research.google.com/github/VaidehiBhat/Sample101vedansh/blob/origin%2Fmain/PreProcessor.ipynb\" target=\"_parent\"><img src=\"https://colab.research.google.com/assets/colab-badge.svg\" alt=\"Open In Colab\"/></a>"
      ]
    },
    {
      "cell_type": "code",
      "execution_count": 1,
      "metadata": {
        "id": "VLJTbOMDpp6T"
      },
      "outputs": [],
      "source": [
        "\n",
        "def preprocessor(signal_input):\n",
        "  import numpy as np\n",
        "  signal_input=np.array(signal_input)\n",
        "  #Mean Correction:\n",
        "  signal_input= signal_input-np.mean(signal_input)\n",
        "  #Notch Filter:\n",
        "  import scipy.signal as signal\n",
        "  fs =  2000\n",
        "  f0 = 50.0/(fs/2)\n",
        "  Q = 30.0\n",
        "\n",
        "  b1, a1 = signal.iirnotch(f0, Q)\n",
        "\n",
        "  freq, h = signal.freqz(b1, a1, fs=fs)\n",
        "  signal_input = signal.filtfilt(b1, a1, signal_input)\n",
        "  #Butterworth Low Pass Filter:\n",
        "  cutoff_freq=400\n",
        "  sampling_rate=2000\n",
        "  nyquist = 0.5 * sampling_rate\n",
        "  normal_cutoff = cutoff_freq / nyquist\n",
        "  b, a = signal.butter(1, normal_cutoff, btype='low', analog=False)\n",
        "  signal_input = signal.filtfilt(b, a, signal_input)\n",
        "  #PyWavelets:\n",
        "  import pywt\n",
        "  import math\n",
        "\n",
        "  wavelet_type='sym8'\n",
        "  sub_coeff_of_decomp=2\n",
        "  decision_type='soft'\n",
        "  wavelet_type = wavelet_type\n",
        "  w = pywt.Wavelet(wavelet_type)\n",
        "  maxlev = pywt.dwt_max_level(len(signal_input), w.dec_len) - sub_coeff_of_decomp\n",
        "  coeffs = pywt.wavedec(signal_input, wavelet_type, level=maxlev)\n",
        "\n",
        "  for i in range(1, len(coeffs)):\n",
        "      M = len(coeffs[i])\n",
        "      lambda_val = math.sqrt(2*math.log(M))\n",
        "      coeffs[i] = pywt.threshold(coeffs[i], lambda_val, decision_type)\n",
        "      signal_input = pywt.waverec(coeffs, wavelet_type)\n",
        "  #Baseline Removal:\n",
        "  noise_arr=[signal_input[1000:1200] , signal_input[2000:2200] , signal_input[3000:3200] , signal_input[4000:4200]]\n",
        "  mean_noise_arr=[]\n",
        "  for i in range(200):\n",
        "    mean_noise_arr.append((noise_arr[0][i]+noise_arr[1][i]+ noise_arr[2][i] + noise_arr[3][i]) / 4)\n",
        "  mean_noise_arr=np.array(mean_noise_arr)\n",
        "  populated_mean_noise=[]\n",
        "  for i in range(80):\n",
        "    for j in range(200):\n",
        "      populated_mean_noise.append(mean_noise_arr[j])\n",
        "  signal_input=signal_input-populated_mean_noise\n",
        "\n",
        "  return signal_input\n",
        "\n",
        "\n",
        "\n"
      ]
    }
  ]
}